{
 "cells": [
  {
   "cell_type": "markdown",
   "id": "149025fd",
   "metadata": {},
   "source": [
    "### Bloco 1: Importação de bibliotecas\n",
    "Este bloco importa as bibliotecas necessárias para a manipulação de vídeo e áudio:\n",
    "\n",
    "- **`moviepy.editor`**: Para edição de vídeos e áudio.\n",
    "- **`numpy`**: Para manipulação de arrays e processamento numérico.\n",
    "- **`matplotlib.pyplot`**: Embora não seja utilizada neste exemplo, pode ser usada para visualização de dados se necessário."
   ]
  },
  {
   "cell_type": "code",
   "execution_count": 1,
   "id": "f554e104",
   "metadata": {},
   "outputs": [],
   "source": [
    "\n",
    "import moviepy.editor as mpe\n",
    "import numpy as np\n",
    "import matplotlib.pyplot as plt\n"
   ]
  },
  {
   "cell_type": "markdown",
   "id": "d851c5b1",
   "metadata": {},
   "source": [
    "### Bloco 2: Carregamento do vídeo\n",
    "Este bloco carrega o arquivo de vídeo que será editado. \n",
    "\n",
    "- **`video_path`**: Substitua pelo caminho do arquivo de vídeo que você deseja processar.\n",
    "- **`mpe.VideoFileClip`**: Carrega o vídeo para que ele possa ser manipulado."
   ]
  },
  {
   "cell_type": "code",
   "execution_count": null,
   "id": "e3b40836",
   "metadata": {},
   "outputs": [],
   "source": [
    "\n",
    "video_path = \"video_inicial.mp4\"\n",
    "video = mpe.VideoFileClip(video_path)\n"
   ]
  },
  {
   "cell_type": "markdown",
   "id": "f366a2dd",
   "metadata": {},
   "source": [
    "### Bloco 3: Inversão de imagem no eixo a cada 20 segundos\n",
    "Este bloco aplica uma inversão da imagem no eixo vertical a cada 20 segundos no vídeo:\n",
    "\n",
    "- **`invert_axis`**: Define uma função que inverte a imagem verticalmente.\n",
    "- **Loop**: Divide o vídeo em segmentos de 20 segundos e aplica a inversão em segmentos ímpares.\n",
    "- **`mpe.concatenate_videoclips`**: Junta todos os segmentos em um único clipe."
   ]
  },
  {
   "cell_type": "code",
   "execution_count": null,
   "id": "ebdb4b6a",
   "metadata": {},
   "outputs": [],
   "source": [
    "def invert_axis(clip):\n",
    "    return clip.fl_image(lambda frame: np.flipud(frame)) \n",
    "\n",
    "chunks = []\n",
    "for i in range(0, int(video.duration), 20):\n",
    "    chunk = video.subclip(i, min(i + 20, video.duration))\n",
    "    if (i // 20) % 2 == 1:  \n",
    "        chunk = invert_axis(chunk)\n",
    "    chunks.append(chunk)\n",
    "\n",
    "video_inverted = mpe.concatenate_videoclips(chunks)\n"
   ]
  },
  {
   "cell_type": "markdown",
   "id": "00f66058",
   "metadata": {},
   "source": [
    "### Bloco 4: Gradativa redução de volume\n",
    "Este bloco reduz gradativamente o volume do áudio do vídeo:\n",
    "\n",
    "- **`gradual_volume`**: Aplica uma função para reduzir o volume do áudio gradativamente.\n",
    "- O volume atinge zero nos últimos 10 segundos.\n",
    "- **Nota**: Caso o vídeo não tenha áudio, o código continuará sem aplicar modificações."
   ]
  },
  {
   "cell_type": "code",
   "execution_count": null,
   "id": "87a977ca",
   "metadata": {},
   "outputs": [],
   "source": [
    "def gradual_volume(clip):\n",
    "    def audio_fadeout(get_audio, t):\n",
    "        audio = get_audio(t)  \n",
    "        volume_factor = np.clip(1 - t / (clip.duration - 10), 0, 1)  \n",
    "        if audio.ndim > 1:  \n",
    "            volume_factor = volume_factor[:, np.newaxis]  \n",
    "        return audio * volume_factor\n",
    "\n",
    "    \n",
    "    if clip.audio is not None:\n",
    "        new_audio = clip.audio.fl(audio_fadeout)\n",
    "        return clip.set_audio(new_audio)\n",
    "    else:\n",
    "        print(\"O clipe não possui áudio.\")\n",
    "        return clip\n",
    "\n",
    "video_with_audio = gradual_volume(video_inverted)\n"
   ]
  },
  {
   "cell_type": "markdown",
   "id": "b7e88408",
   "metadata": {},
   "source": [
    "### Bloco 5: Corte e reposicionamento de trecho\n",
    "Este bloco realiza as seguintes operações:\n",
    "\n",
    "1. Corta um trecho de 20 segundos (entre 60 e 80 segundos) do vídeo.\n",
    "2. Remove esse trecho do vídeo original.\n",
    "3. Adiciona o trecho cortado ao final do vídeo.\n",
    "\n",
    "- **`subclip`**: Cria subclipes do vídeo com os trechos desejados.\n",
    "- **`mpe.concatenate_videoclips`**: Junta os trechos editados."
   ]
  },
  {
   "cell_type": "code",
   "execution_count": null,
   "id": "e867b97e",
   "metadata": {},
   "outputs": [],
   "source": [
    "part_to_cut = video_with_audio.subclip(60, 80)\n",
    "remaining_video = mpe.concatenate_videoclips([\n",
    "    video_with_audio.subclip(0, 60),\n",
    "    video_with_audio.subclip(80, video_with_audio.duration)\n",
    "])\n",
    "\n",
    "final_video = mpe.concatenate_videoclips([remaining_video, part_to_cut])\n"
   ]
  },
  {
   "cell_type": "markdown",
   "id": "5646e21d",
   "metadata": {},
   "source": [
    "### Bloco 6: Exportação do vídeo final\n",
    "Este bloco salva o vídeo final no formato MP4 com as edições realizadas:\n",
    "\n",
    "- **`write_videofile`**: Exporta o vídeo editado.\n",
    "- **Parâmetros**:\n",
    "  - **`codec=\"libx264\"`**: Codec para compressão de vídeo.\n",
    "  - **`audio_codec=\"aac\"`**: Codec para compressão de áudio.\n",
    "  - **`temp_audiofile`**: Arquivo temporário para processar o áudio.\n",
    "  - **`remove_temp`**: Remove o arquivo temporário após a exportação."
   ]
  },
  {
   "cell_type": "code",
   "execution_count": null,
   "id": "5eb69df7",
   "metadata": {},
   "outputs": [
    {
     "name": "stdout",
     "output_type": "stream",
     "text": [
      "Moviepy - Building video video_final.mp4.\n",
      "MoviePy - Writing audio in temp_audio.m4a\n"
     ]
    },
    {
     "name": "stderr",
     "output_type": "stream",
     "text": [
      "                                                                      \r"
     ]
    },
    {
     "name": "stdout",
     "output_type": "stream",
     "text": [
      "MoviePy - Done.\n",
      "Moviepy - Writing video video_final.mp4\n",
      "\n"
     ]
    },
    {
     "name": "stderr",
     "output_type": "stream",
     "text": [
      "                                                                 \r"
     ]
    },
    {
     "name": "stdout",
     "output_type": "stream",
     "text": [
      "Moviepy - Done !\n",
      "Moviepy - video ready video_final.mp4\n"
     ]
    }
   ],
   "source": [
    "output_path = \"video_final.mp4\"\n",
    "\n",
    "final_video.write_videofile(\n",
    "    output_path,\n",
    "    codec=\"libx264\",\n",
    "    audio_codec=\"aac\",\n",
    "    temp_audiofile=\"temp_audio.m4a\",  \n",
    "    remove_temp=True                 \n",
    ")"
   ]
  }
 ],
 "metadata": {
  "kernelspec": {
   "display_name": "Python 3",
   "language": "python",
   "name": "python3"
  },
  "language_info": {
   "codemirror_mode": {
    "name": "ipython",
    "version": 3
   },
   "file_extension": ".py",
   "mimetype": "text/x-python",
   "name": "python",
   "nbconvert_exporter": "python",
   "pygments_lexer": "ipython3",
   "version": "3.12.2"
  }
 },
 "nbformat": 4,
 "nbformat_minor": 5
}
